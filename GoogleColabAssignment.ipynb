{
  "nbformat": 4,
  "nbformat_minor": 0,
  "metadata": {
    "colab": {
      "provenance": [],
      "mount_file_id": "1aynLNo-OfdP0Xk_x8orwXCEfoxwE6-LN",
      "authorship_tag": "ABX9TyNEvVuRvpvFXyAyuiOaCpat",
      "include_colab_link": true
    },
    "kernelspec": {
      "name": "python3",
      "display_name": "Python 3"
    },
    "language_info": {
      "name": "python"
    }
  },
  "cells": [
    {
      "cell_type": "markdown",
      "metadata": {
        "id": "view-in-github",
        "colab_type": "text"
      },
      "source": [
        "<a href=\"https://colab.research.google.com/github/apodstolska/GS2DIT/blob/main/GoogleColabAssignment.ipynb\" target=\"_parent\"><img src=\"https://colab.research.google.com/assets/colab-badge.svg\" alt=\"Open In Colab\"/></a>"
      ]
    },
    {
      "cell_type": "markdown",
      "source": [
        "#Code section"
      ],
      "metadata": {
        "id": "grgPigxWR0EC"
      }
    },
    {
      "cell_type": "code",
      "source": [
        "a=1"
      ],
      "metadata": {
        "id": "JVCt03oWR_cq"
      },
      "execution_count": 2,
      "outputs": []
    },
    {
      "cell_type": "code",
      "source": [
        "b=2"
      ],
      "metadata": {
        "id": "k_D8uHKOR_Mh"
      },
      "execution_count": 3,
      "outputs": []
    },
    {
      "cell_type": "code",
      "source": [
        "a+b"
      ],
      "metadata": {
        "colab": {
          "base_uri": "https://localhost:8080/"
        },
        "id": "CVgtDGs-R3bo",
        "outputId": "4e2e1d06-8e16-4200-dc93-a5b0a55350e3"
      },
      "execution_count": 4,
      "outputs": [
        {
          "output_type": "execute_result",
          "data": {
            "text/plain": [
              "3"
            ]
          },
          "metadata": {},
          "execution_count": 4
        }
      ]
    },
    {
      "cell_type": "markdown",
      "source": [
        "#Text section"
      ],
      "metadata": {
        "id": "8vLSbVheR4gC"
      }
    },
    {
      "cell_type": "markdown",
      "source": [
        "**print(\"Hello World!\")**"
      ],
      "metadata": {
        "id": "PjIHU2MWSSjb"
      }
    },
    {
      "cell_type": "markdown",
      "source": [
        "*print(\"Hello World!\")*"
      ],
      "metadata": {
        "id": "iuSgl_DTSSYj"
      }
    },
    {
      "cell_type": "markdown",
      "source": [
        "```python\n",
        "print(\"Hello World!\")\n",
        "```"
      ],
      "metadata": {
        "id": "HR7ohidRSSHa"
      }
    }
  ]
}